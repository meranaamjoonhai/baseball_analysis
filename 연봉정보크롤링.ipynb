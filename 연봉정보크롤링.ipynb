{
 "cells": [
  {
   "cell_type": "code",
   "execution_count": 1,
   "metadata": {},
   "outputs": [],
   "source": [
    "import pandas as pd\n",
    "import selenium\n",
    "from selenium import webdriver\n",
    "from selenium.webdriver.common.keys import Keys\n",
    "from selenium.webdriver.support.ui import Select\n",
    "from math import sqrt"
   ]
  },
  {
   "cell_type": "code",
   "execution_count": 2,
   "metadata": {},
   "outputs": [
    {
     "name": "stderr",
     "output_type": "stream",
     "text": [
      "C:\\Users\\JOONHY~1\\AppData\\Local\\Temp/ipykernel_31652/3377528876.py:8: DeprecationWarning: use options instead of chrome_options\n",
      "  driver = webdriver.Chrome('chromedriver',chrome_options=chrome_options)\n"
     ]
    }
   ],
   "source": [
    "from selenium import webdriver\n",
    "from time import sleep\n",
    "options = webdriver.ChromeOptions()\n",
    "chrome_options = webdriver.ChromeOptions()\n",
    "chrome_options.add_argument('--headless') #내부 창을 띄울 수 없으므로 설정\n",
    "chrome_options.add_argument('--no-sandbox')\n",
    "chrome_options.add_argument('--disable-dev-shm-usage')\n",
    "driver = webdriver.Chrome('chromedriver',chrome_options=chrome_options)\n",
    "# 브라우저 윈도우 사이즈\n",
    "options.add_argument('window-size=1920x1080')\n",
    "# 사람처럼 보이게 하는 옵션들\n",
    "options.add_argument(\"disable-gpu\")   # 가속 사용 x\n",
    "options.add_argument(\"lang=ko_KR\")    # 가짜 플러그인 탑재\n",
    "options.add_argument('user-agent=Mozilla/5.0 (Windows NT 10.0; WOW64) AppleWebKit/537.36 (KHTML, like Gecko) Chrome/109.0.0.0 Safari/537.36')  # user-agent 이름 설정|\n",
    "# selenium에서 사용할 웹 드라이버 절대 경로 정보\n",
    "# selenum의 webdriver에 앞서 설치한 chromedirver를 연동한다.\n",
    "driver.implicitly_wait(2)\n",
    "# driver로 특정 페이지를 크롤링한다.\n",
    "#driver.get('http://www.kbreport.com/history/pitcher/main')"
   ]
  },
  {
   "cell_type": "code",
   "execution_count": 3,
   "metadata": {},
   "outputs": [],
   "source": [
    "#!pip install lxml"
   ]
  },
  {
   "cell_type": "code",
   "execution_count": 4,
   "metadata": {},
   "outputs": [],
   "source": [
    "# pd.read_html 함수를 사용하여 페이지 내에 있는 테이블 데이터 가져오기\n",
    "statiz_baseball_salary = pd.DataFrame(columns=[\"선수\",\"연도\",\"팀\",\"연봉(만원)\",\"WAR\"])"
   ]
  },
  {
   "cell_type": "code",
   "execution_count": 5,
   "metadata": {},
   "outputs": [],
   "source": [
    "for year in range(1997,2022):\n",
    "        url = f\"http://www.statiz.co.kr/salary.php?opt=0&sopt={year}&cnv=&pos=&te=3\"\n",
    "        year_salary_data = pd.read_html(url)[1]\n",
    "        statiz_baseball_salary = pd.concat([statiz_baseball_salary,year_salary_data])"
   ]
  },
  {
   "cell_type": "code",
   "execution_count": 6,
   "metadata": {},
   "outputs": [
    {
     "data": {
      "text/html": [
       "<div>\n",
       "<style scoped>\n",
       "    .dataframe tbody tr th:only-of-type {\n",
       "        vertical-align: middle;\n",
       "    }\n",
       "\n",
       "    .dataframe tbody tr th {\n",
       "        vertical-align: top;\n",
       "    }\n",
       "\n",
       "    .dataframe thead th {\n",
       "        text-align: right;\n",
       "    }\n",
       "</style>\n",
       "<table border=\"1\" class=\"dataframe\">\n",
       "  <thead>\n",
       "    <tr style=\"text-align: right;\">\n",
       "      <th></th>\n",
       "      <th>선수</th>\n",
       "      <th>연도</th>\n",
       "      <th>팀</th>\n",
       "      <th>연봉(만원)</th>\n",
       "      <th>WAR</th>\n",
       "    </tr>\n",
       "  </thead>\n",
       "  <tbody>\n",
       "    <tr>\n",
       "      <th>0</th>\n",
       "      <td>김상진</td>\n",
       "      <td>1997</td>\n",
       "      <td>OB</td>\n",
       "      <td>9800</td>\n",
       "      <td>3.340</td>\n",
       "    </tr>\n",
       "    <tr>\n",
       "      <th>1</th>\n",
       "      <td>김상호</td>\n",
       "      <td>1997</td>\n",
       "      <td>OB</td>\n",
       "      <td>9800</td>\n",
       "      <td>3.929</td>\n",
       "    </tr>\n",
       "    <tr>\n",
       "      <th>2</th>\n",
       "      <td>권명철</td>\n",
       "      <td>1997</td>\n",
       "      <td>OB</td>\n",
       "      <td>6200</td>\n",
       "      <td>0.934</td>\n",
       "    </tr>\n",
       "    <tr>\n",
       "      <th>3</th>\n",
       "      <td>김종석</td>\n",
       "      <td>1997</td>\n",
       "      <td>OB</td>\n",
       "      <td>6200</td>\n",
       "      <td>-0.066</td>\n",
       "    </tr>\n",
       "    <tr>\n",
       "      <th>4</th>\n",
       "      <td>김민호</td>\n",
       "      <td>1997</td>\n",
       "      <td>OB</td>\n",
       "      <td>6200</td>\n",
       "      <td>2.904</td>\n",
       "    </tr>\n",
       "    <tr>\n",
       "      <th>...</th>\n",
       "      <td>...</td>\n",
       "      <td>...</td>\n",
       "      <td>...</td>\n",
       "      <td>...</td>\n",
       "      <td>...</td>\n",
       "    </tr>\n",
       "    <tr>\n",
       "      <th>72</th>\n",
       "      <td>오명진</td>\n",
       "      <td>2021</td>\n",
       "      <td>두산</td>\n",
       "      <td>2700</td>\n",
       "      <td>-0.140</td>\n",
       "    </tr>\n",
       "    <tr>\n",
       "      <th>73</th>\n",
       "      <td>남호</td>\n",
       "      <td>2021</td>\n",
       "      <td>두산</td>\n",
       "      <td>2700</td>\n",
       "      <td>-0.114</td>\n",
       "    </tr>\n",
       "    <tr>\n",
       "      <th>74</th>\n",
       "      <td>문대원</td>\n",
       "      <td>2021</td>\n",
       "      <td>두산</td>\n",
       "      <td>2700</td>\n",
       "      <td>0.000</td>\n",
       "    </tr>\n",
       "    <tr>\n",
       "      <th>75</th>\n",
       "      <td>안권수</td>\n",
       "      <td>2021</td>\n",
       "      <td>두산</td>\n",
       "      <td>2700</td>\n",
       "      <td>-0.053</td>\n",
       "    </tr>\n",
       "    <tr>\n",
       "      <th>76</th>\n",
       "      <td>이교훈</td>\n",
       "      <td>2021</td>\n",
       "      <td>두산</td>\n",
       "      <td>2700</td>\n",
       "      <td>-0.210</td>\n",
       "    </tr>\n",
       "  </tbody>\n",
       "</table>\n",
       "<p>1323 rows × 5 columns</p>\n",
       "</div>"
      ],
      "text/plain": [
       "     선수    연도   팀 연봉(만원)    WAR\n",
       "0   김상진  1997  OB   9800  3.340\n",
       "1   김상호  1997  OB   9800  3.929\n",
       "2   권명철  1997  OB   6200  0.934\n",
       "3   김종석  1997  OB   6200 -0.066\n",
       "4   김민호  1997  OB   6200  2.904\n",
       "..  ...   ...  ..    ...    ...\n",
       "72  오명진  2021  두산   2700 -0.140\n",
       "73   남호  2021  두산   2700 -0.114\n",
       "74  문대원  2021  두산   2700  0.000\n",
       "75  안권수  2021  두산   2700 -0.053\n",
       "76  이교훈  2021  두산   2700 -0.210\n",
       "\n",
       "[1323 rows x 5 columns]"
      ]
     },
     "execution_count": 6,
     "metadata": {},
     "output_type": "execute_result"
    }
   ],
   "source": [
    "statiz_baseball_salary"
   ]
  },
  {
   "cell_type": "code",
   "execution_count": 7,
   "metadata": {},
   "outputs": [],
   "source": [
    "#statiz_baseball_salary.to_csv('1997_2022두산선수연봉.csv')"
   ]
  }
 ],
 "metadata": {
  "kernelspec": {
   "display_name": "Python 3",
   "language": "python",
   "name": "python3"
  },
  "language_info": {
   "codemirror_mode": {
    "name": "ipython",
    "version": 3
   },
   "file_extension": ".py",
   "mimetype": "text/x-python",
   "name": "python",
   "nbconvert_exporter": "python",
   "pygments_lexer": "ipython3",
   "version": "3.11.2"
  },
  "orig_nbformat": 4,
  "vscode": {
   "interpreter": {
    "hash": "e5a1283ab043defb7d08c3c76c2f5532c99341d33788e690b36667793f1ac6af"
   }
  }
 },
 "nbformat": 4,
 "nbformat_minor": 2
}
